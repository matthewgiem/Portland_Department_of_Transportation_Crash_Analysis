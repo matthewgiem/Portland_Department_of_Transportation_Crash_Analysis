{
 "cells": [
  {
   "cell_type": "markdown",
   "metadata": {},
   "source": [
    "## Import Relevent Packages for our Modeling"
   ]
  },
  {
   "cell_type": "code",
   "execution_count": 1,
   "metadata": {},
   "outputs": [],
   "source": [
    "import numpy as np\n",
    "import pandas as pd\n",
    "import matplotlib.pyplot as plt\n",
    "import seaborn as sns\n",
    "from sklearn.linear_model import LinearRegression\n",
    "from sklearn import metrics"
   ]
  },
  {
   "cell_type": "markdown",
   "metadata": {},
   "source": [
    "## Read in our files using pandas"
   ]
  },
  {
   "cell_type": "code",
   "execution_count": 2,
   "metadata": {},
   "outputs": [],
   "source": [
    "df1 = pd.read_csv('Data/Washington.csv', low_memory=False)\n",
    "df2 = pd.read_csv('Data/Multnomah.csv', low_memory=False)\n",
    "df3 = pd.read_csv('Data/Clackamas.csv', low_memory=False)\n",
    "df4 = pd.read_csv('Data/Marion.csv', low_memory=False)\n",
    "codes = pd.read_csv('Data/CDS Code Translate.csv',encoding='cp1252')"
   ]
  },
  {
   "cell_type": "markdown",
   "metadata": {},
   "source": [
    "## After looking through the county files we will seperate them into two DF one with the crash data and another with the driver data \n",
    "### (we will practice merging them later)"
   ]
  },
  {
   "cell_type": "code",
   "execution_count": 3,
   "metadata": {},
   "outputs": [],
   "source": [
    "washington = df1[['Crash ID', 'Crash Month', 'Crash Day', 'Crash Year']].copy()\n",
    "multnomah = df2[['Crash ID', 'Crash Month', 'Crash Day', 'Crash Year']].copy()\n",
    "clackamas = df3[['Crash ID', 'Crash Month', 'Crash Day', 'Crash Year']].copy()\n",
    "marion = df4[['Crash ID', 'Crash Month', 'Crash Day', 'Crash Year']].copy()"
   ]
  },
  {
   "cell_type": "markdown",
   "metadata": {},
   "source": [
    "<font>We will need to create the driver __DF__ with only  the records of accident participents *record type* 3 and the drivers *Participant code* 1 </font>"
   ]
  },
  {
   "cell_type": "code",
   "execution_count": 4,
   "metadata": {},
   "outputs": [],
   "source": [
    "washington_drivers = df1[['Crash ID', 'Driver Residence', 'Driver License Status', 'Participant Type Code', 'Record Type']].loc[df1['Record Type'] == 3].loc[df1['Participant Type Code'] == 1].copy()\n",
    "multnomah_drivers = df2[['Crash ID', 'Driver Residence', 'Driver License Status', 'Participant Type Code', 'Record Type']].loc[df2['Record Type'] == 3].loc[df2['Participant Type Code'] == 1].copy()\n",
    "clackamas_drivers = df3[['Crash ID', 'Driver Residence', 'Driver License Status', 'Participant Type Code', 'Record Type']].loc[df3['Record Type'] == 3].loc[df3['Participant Type Code'] == 1].copy()\n",
    "marion_drivers = df4[['Crash ID', 'Driver Residence', 'Driver License Status', 'Participant Type Code', 'Record Type']].loc[df4['Record Type'] == 3].loc[df4['Participant Type Code'] == 1].copy()"
   ]
  },
  {
   "cell_type": "markdown",
   "metadata": {},
   "source": [
    "<font>Getting ride of the rows that are full of NaN will leave us with only the rows with the date and crash id</font>"
   ]
  },
  {
   "cell_type": "code",
   "execution_count": 5,
   "metadata": {},
   "outputs": [],
   "source": [
    "washington = washington.dropna()\n",
    "multnomah = multnomah.dropna()\n",
    "clackamas = clackamas.dropna()\n",
    "marion = marion.dropna()"
   ]
  },
  {
   "cell_type": "code",
   "execution_count": 6,
   "metadata": {},
   "outputs": [
    {
     "name": "stdout",
     "output_type": "stream",
     "text": [
      "    Crash ID  Crash Month  Crash Day  Crash Year\n",
      "0    1450022          1.0        1.0      2012.0\n",
      "3    1450709          1.0        9.0      2012.0\n",
      "8    1451163          1.0       13.0      2012.0\n",
      "12   1451403          1.0       15.0      2012.0\n",
      "18   1451432          1.0       15.0      2012.0\n",
      "    Crash ID  Crash Month  Crash Day  Crash Year\n",
      "0    1449628          1.0        5.0      2012.0\n",
      "5    1449632          1.0        5.0      2012.0\n",
      "9    1449640          1.0        5.0      2012.0\n",
      "14   1449642          1.0        5.0      2012.0\n",
      "20   1449649          1.0        5.0      2012.0\n",
      "    Crash ID  Crash Month  Crash Day  Crash Year\n",
      "0    1449644          1.0        1.0      2012.0\n",
      "6    1449647          1.0        2.0      2012.0\n",
      "11   1449654          1.0        2.0      2012.0\n",
      "15   1449660          1.0        2.0      2012.0\n",
      "20   1449670          1.0        3.0      2012.0\n",
      "    Crash ID  Crash Month  Crash Day  Crash Year\n",
      "0    1500448          1.0        3.0      2013.0\n",
      "5    1500457          1.0        4.0      2013.0\n",
      "10   1500520          1.0       10.0      2013.0\n",
      "16   1500540          1.0       11.0      2013.0\n",
      "23   1500580          1.0       11.0      2013.0\n"
     ]
    }
   ],
   "source": [
    "print(washington.head())\n",
    "print(multnomah.head())\n",
    "print(clackamas.head())\n",
    "print(marion.head())"
   ]
  },
  {
   "cell_type": "markdown",
   "metadata": {},
   "source": [
    "<font>Lets check to see if there is any duplication with the the crash ID's</font>"
   ]
  },
  {
   "cell_type": "code",
   "execution_count": 7,
   "metadata": {},
   "outputs": [
    {
     "name": "stdout",
     "output_type": "stream",
     "text": [
      "28296\n",
      "54208\n",
      "18615\n",
      "17218\n"
     ]
    }
   ],
   "source": [
    "print(washington['Crash ID'].nunique())\n",
    "print(multnomah['Crash ID'].nunique())\n",
    "print(clackamas['Crash ID'].nunique())\n",
    "print(marion['Crash ID'].nunique())"
   ]
  },
  {
   "cell_type": "code",
   "execution_count": 8,
   "metadata": {},
   "outputs": [
    {
     "name": "stdout",
     "output_type": "stream",
     "text": [
      "(28296, 4)\n",
      "(54208, 4)\n",
      "(18615, 4)\n",
      "(17218, 4)\n"
     ]
    }
   ],
   "source": [
    "print(washington.shape)\n",
    "print(multnomah.shape)\n",
    "print(clackamas.shape)\n",
    "print(marion.shape)"
   ]
  },
  {
   "cell_type": "markdown",
   "metadata": {},
   "source": [
    "<font>Lets turn the year, month, and day columns into a single datetime object column</font>"
   ]
  },
  {
   "cell_type": "code",
   "execution_count": 9,
   "metadata": {},
   "outputs": [],
   "source": [
    "washington = washington.rename(columns={'Crash Year': 'year', 'Crash Month': 'month', 'Crash Day': 'day'})\n",
    "multnomah = multnomah.rename(columns={'Crash Year': 'year', 'Crash Month': 'month', 'Crash Day': 'day'})\n",
    "clackamas = clackamas.rename(columns={'Crash Year': 'year', 'Crash Month': 'month', 'Crash Day': 'day'})\n",
    "marion = marion.rename(columns={'Crash Year': 'year', 'Crash Month': 'month', 'Crash Day': 'day'})\n",
    "washington['date'] = pd.to_datetime(washington[['year', 'month', 'day']])\n",
    "multnomah['date'] = pd.to_datetime(multnomah[['year', 'month', 'day']])\n",
    "clackamas['date'] = pd.to_datetime(clackamas[['year', 'month', 'day']])\n",
    "marion['date'] = pd.to_datetime(marion[['year', 'month', 'day']])\n",
    "washington.drop(columns=['year', 'month', 'day'], inplace=True)\n",
    "multnomah.drop(columns=['year', 'month', 'day'], inplace=True)\n",
    "clackamas.drop(columns=['year', 'month', 'day'], inplace=True)\n",
    "marion.drop(columns=['year', 'month', 'day'], inplace=True)"
   ]
  },
  {
   "cell_type": "markdown",
   "metadata": {},
   "source": [
    "### Lets to a merge from the driver DF to the accident DF leaving us with a DF with the date of the crash, the crash ID and some info on the driver!"
   ]
  },
  {
   "cell_type": "code",
   "execution_count": 10,
   "metadata": {},
   "outputs": [],
   "source": [
    "joined_washington = pd.merge(washington_drivers, washington, on='Crash ID', how='left')\n",
    "joined_multnomah = pd.merge(multnomah_drivers, multnomah, on='Crash ID', how='left')\n",
    "joined_clackamas = pd.merge(clackamas_drivers, clackamas, on='Crash ID', how='left')\n",
    "joined_marion = pd.merge(marion_drivers, marion, on='Crash ID', how='left')"
   ]
  },
  {
   "cell_type": "markdown",
   "metadata": {},
   "source": [
    "## Lets rename some of the columns to make it easier to navigate the DF"
   ]
  },
  {
   "cell_type": "code",
   "execution_count": 11,
   "metadata": {},
   "outputs": [],
   "source": [
    "joined_washington = joined_washington.rename(columns={'Crash ID': 'ID', 'Driver Residence': 'residence', 'Driver License Status': 'driver_status', 'Participant Type Code': 'participant_code', 'Record Type': 'record_type'})\n",
    "joined_multnomah = joined_multnomah.rename(columns={'Crash ID': 'ID', 'Driver Residence': 'residence', 'Driver License Status': 'driver_status', 'Participant Type Code': 'participant_code', 'Record Type': 'record_type'})\n",
    "joined_clackamas = joined_clackamas.rename(columns={'Crash ID': 'ID', 'Driver Residence': 'residence', 'Driver License Status': 'driver_status', 'Participant Type Code': 'participant_code', 'Record Type': 'record_type'})\n",
    "joined_marion = joined_marion.rename(columns={'Crash ID': 'ID', 'Driver Residence': 'residence', 'Driver License Status': 'driver_status', 'Participant Type Code': 'participant_code', 'Record Type': 'record_type'})"
   ]
  },
  {
   "cell_type": "markdown",
   "metadata": {},
   "source": [
    "## Lets make a some graphs showing how the number of accidents change with the months"
   ]
  },
  {
   "cell_type": "code",
   "execution_count": 12,
   "metadata": {},
   "outputs": [],
   "source": [
    "washington_monthly = joined_washington.groupby([joined_washington.date.dt.year, joined_washington.date.dt.month]).count()['ID']\n",
    "multnomah_monthly = joined_multnomah.groupby([joined_multnomah.date.dt.year, joined_multnomah.date.dt.month]).count()['ID']\n",
    "clackamas_monthly = joined_clackamas.groupby([joined_clackamas.date.dt.year, joined_clackamas.date.dt.month]).count()['ID']\n",
    "marion_monthly = joined_marion.groupby([joined_marion.date.dt.year, joined_marion.date.dt.month]).count()['ID']"
   ]
  },
  {
   "cell_type": "code",
   "execution_count": 13,
   "metadata": {},
   "outputs": [
    {
     "data": {
      "image/png": "[encoded data removed]",
      "text/plain": [
       "<Figure size 864x432 with 1 Axes>"
      ]
     },
     "metadata": {},
     "output_type": "display_data"
    },
    {
     "data": {
      "image/png": "[encoded data removed]",
      "text/plain": [
       "<Figure size 864x432 with 1 Axes>"
      ]
     },
     "metadata": {},
     "output_type": "display_data"
    },
    {
     "data": {
      "image/png": "[encoded data removed]",
      "text/plain": [
       "<Figure size 864x432 with 1 Axes>"
      ]
     },
     "metadata": {},
     "output_type": "display_data"
    },
    {
     "data": {
      "image/png": "[encoded data removed]",
      "text/plain": [
       "<Figure size 864x432 with 1 Axes>"
      ]
     },
     "metadata": {},
     "output_type": "display_data"
    }
   ],
   "source": [
    "%matplotlib inline\n",
    "multnomah_monthly.plot.bar(title='# of Crashes per Month in Multnomah County', figsize=(12,6))\n",
    "plt.xlabel('Monthly')\n",
    "plt.show()\n",
    "washington_monthly.plot.bar(title=\"# of Crashes per Month in Washington County\", figsize=(12,6))\n",
    "plt.xlabel('Monthly')\n",
    "plt.show()\n",
    "clackamas_monthly.plot.bar(title=\"# of Crashes per Month in Clackamas County\", figsize=(12,6))\n",
    "plt.xlabel('Monthly')\n",
    "plt.show()\n",
    "marion_monthly.plot.bar(title=\"# of Crashes per Month in Marion County\", figsize=(12,6))\n",
    "plt.xlabel('Monthly')\n",
    "plt.show()\n"
   ]
  },
  {
   "cell_type": "markdown",
   "metadata": {},
   "source": [
    "## That looks pretty cool! lets graph the yearly crashes then look at the data and create a linear regression model to predict the number of crashes in 2016"
   ]
  },
  {
   "cell_type": "code",
   "execution_count": 14,
   "metadata": {},
   "outputs": [
    {
     "name": "stdout",
     "output_type": "stream",
     "text": [
      "marion\n",
      "date\n",
      "2012    7523\n",
      "2013    7811\n",
      "2014    8117\n",
      "2015    9025\n",
      "Name: ID, dtype: int64\n",
      "washington\n",
      "date\n",
      "2012    13111\n",
      "2013    13477\n",
      "2014    14069\n",
      "2015    14752\n",
      "Name: ID, dtype: int64\n",
      "clackamas\n",
      "date\n",
      "2012    8269\n",
      "2013    8194\n",
      "2014    8784\n",
      "2015    9607\n",
      "Name: ID, dtype: int64\n",
      "multnomah\n",
      "date\n",
      "2012    26802\n",
      "2013    25720\n",
      "2014    25833\n",
      "2015    27995\n",
      "Name: ID, dtype: int64\n"
     ]
    }
   ],
   "source": [
    "print('marion')\n",
    "print(joined_marion.groupby([joined_marion.date.dt.year]).count()['ID'])\n",
    "print('washington')\n",
    "print(joined_washington.groupby([joined_washington.date.dt.year]).count()['ID'])\n",
    "print('clackamas')\n",
    "print(joined_clackamas.groupby([joined_clackamas.date.dt.year]).count()['ID'])\n",
    "print('multnomah')\n",
    "print(joined_multnomah.groupby([joined_multnomah.date.dt.year]).count()['ID'])"
   ]
  },
  {
   "cell_type": "code",
   "execution_count": 15,
   "metadata": {},
   "outputs": [],
   "source": [
    "washington_yearly = joined_washington.groupby([joined_washington.date.dt.year]).count()['ID']\n",
    "multnomah_yearly = joined_multnomah.groupby([joined_multnomah.date.dt.year]).count()['ID']\n",
    "clackamas_yearly = joined_clackamas.groupby([joined_clackamas.date.dt.year]).count()['ID']\n",
    "marion_yearly = joined_marion.groupby([joined_marion.date.dt.year]).count()['ID']"
   ]
  },
  {
   "cell_type": "code",
   "execution_count": 16,
   "metadata": {},
   "outputs": [
    {
     "data": {
      "image/png": "[encoded data removed]",
      "text/plain": [
       "<Figure size 864x432 with 1 Axes>"
      ]
     },
     "metadata": {},
     "output_type": "display_data"
    },
    {
     "data": {
      "image/png": "[encoded data removed]",
      "text/plain": [
       "<Figure size 864x432 with 1 Axes>"
      ]
     },
     "metadata": {},
     "output_type": "display_data"
    },
    {
     "data": {
      "image/png": "[encoded data removed]",
      "text/plain": [
       "<Figure size 864x432 with 1 Axes>"
      ]
     },
     "metadata": {},
     "output_type": "display_data"
    },
    {
     "data": {
      "image/png": "[encoded data removed]",
      "text/plain": [
       "<Figure size 864x432 with 1 Axes>"
      ]
     },
     "metadata": {},
     "output_type": "display_data"
    }
   ],
   "source": [
    "%matplotlib inline\n",
    "multnomah_yearly.plot.bar(title='# of Crashes per Year in Multnomah County', figsize=(12,6))\n",
    "plt.show()\n",
    "washington_yearly.plot.bar(title=\"# of Crashes per Year in Washington County\", figsize=(12,6))\n",
    "plt.show()\n",
    "clackamas_yearly.plot.bar(title=\"# of Crashes per Year in Clackamas County\", figsize=(12,6))\n",
    "plt.show()\n",
    "marion_yearly.plot.bar(title=\"# of Crashes per Year in Marion County\", figsize=(12,6))\n",
    "plt.show()"
   ]
  },
  {
   "cell_type": "markdown",
   "metadata": {},
   "source": [
    "<font>Using the Data above I created an Excel file to do the simple calculations</font>"
   ]
  },
  {
   "cell_type": "code",
   "execution_count": 21,
   "metadata": {},
   "outputs": [],
   "source": [
    "linear_regression_marion = pd.read_csv('Data/linear_regression_marion.csv')\n",
    "linear_regression_clackamas = pd.read_csv('Data/linear_regression_clackamas.csv')\n",
    "linear_regression_washington = pd.read_csv('Data/linear_regression_washington.csv')\n",
    "linear_regression_multnomah = pd.read_csv('Data/linear_regression_multnomah.csv')"
   ]
  },
  {
   "cell_type": "code",
   "execution_count": 22,
   "metadata": {},
   "outputs": [
    {
     "data": {
      "text/html": [
       "<div>\n",
       "<style scoped>\n",
       "    .dataframe tbody tr th:only-of-type {\n",
       "        vertical-align: middle;\n",
       "    }\n",
       "\n",
       "    .dataframe tbody tr th {\n",
       "        vertical-align: top;\n",
       "    }\n",
       "\n",
       "    .dataframe thead th {\n",
       "        text-align: right;\n",
       "    }\n",
       "</style>\n",
       "<table border=\"1\" class=\"dataframe\">\n",
       "  <thead>\n",
       "    <tr style=\"text-align: right;\">\n",
       "      <th></th>\n",
       "      <th></th>\n",
       "      <th></th>\n",
       "      <th></th>\n",
       "      <th></th>\n",
       "      <th></th>\n",
       "      <th>Table 1</th>\n",
       "    </tr>\n",
       "  </thead>\n",
       "  <tbody>\n",
       "    <tr>\n",
       "      <th rowspan=\"5\" valign=\"top\">NaN</th>\n",
       "      <th>Year or X</th>\n",
       "      <th>Crashes or Y</th>\n",
       "      <th>Year - average or X - X̅</th>\n",
       "      <th>Crashes - average or Y - Y̅</th>\n",
       "      <th>(Year - average)2 or (X - X̅)2</th>\n",
       "      <td>(Year - average) * (crashes - average) or  (X ...</td>\n",
       "    </tr>\n",
       "    <tr>\n",
       "      <th>2012</th>\n",
       "      <th>7523</th>\n",
       "      <th>-1.5</th>\n",
       "      <th>-596</th>\n",
       "      <th>2.25</th>\n",
       "      <td>894</td>\n",
       "    </tr>\n",
       "    <tr>\n",
       "      <th>2013</th>\n",
       "      <th>7811</th>\n",
       "      <th>-0.5</th>\n",
       "      <th>-308</th>\n",
       "      <th>0.25</th>\n",
       "      <td>154</td>\n",
       "    </tr>\n",
       "    <tr>\n",
       "      <th>2014</th>\n",
       "      <th>8117</th>\n",
       "      <th>0.5</th>\n",
       "      <th>-2</th>\n",
       "      <th>0.25</th>\n",
       "      <td>-1</td>\n",
       "    </tr>\n",
       "    <tr>\n",
       "      <th>2015</th>\n",
       "      <th>9025</th>\n",
       "      <th>1.5</th>\n",
       "      <th>906</th>\n",
       "      <th>2.25</th>\n",
       "      <td>1359</td>\n",
       "    </tr>\n",
       "    <tr>\n",
       "      <th>Average</th>\n",
       "      <th>2013.5</th>\n",
       "      <th>8119</th>\n",
       "      <th>NaN</th>\n",
       "      <th>Sum</th>\n",
       "      <th>5</th>\n",
       "      <td>2406</td>\n",
       "    </tr>\n",
       "    <tr>\n",
       "      <th rowspan=\"3\" valign=\"top\">NaN</th>\n",
       "      <th rowspan=\"3\" valign=\"top\">NaN</th>\n",
       "      <th rowspan=\"3\" valign=\"top\">NaN</th>\n",
       "      <th rowspan=\"3\" valign=\"top\">NaN</th>\n",
       "      <th>B1</th>\n",
       "      <th>B1 = (∑(x - x̅)(y - y̅))/(∑(x - x̅)2)</th>\n",
       "      <td>481.2</td>\n",
       "    </tr>\n",
       "    <tr>\n",
       "      <th>B0</th>\n",
       "      <th>Y̅ = B0 + B1 * X̅</th>\n",
       "      <td>-960777.2</td>\n",
       "    </tr>\n",
       "    <tr>\n",
       "      <th>NaN</th>\n",
       "      <th>Prediction for 2016</th>\n",
       "      <td>9322</td>\n",
       "    </tr>\n",
       "  </tbody>\n",
       "</table>\n",
       "</div>"
      ],
      "text/plain": [
       "                                                                                                                                                                     Table 1\n",
       "NaN     Year or X Crashes or Y Year - average or X - X̅ Crashes - average or Y - Y̅ (Year - average)2 or (X - X̅)2         (Year - average) * (crashes - average) or  (X ...\n",
       "        2012      7523         -1.5                     -596                        2.25                                                                                 894\n",
       "        2013      7811         -0.5                     -308                        0.25                                                                                 154\n",
       "        2014      8117         0.5                      -2                          0.25                                                                                  -1\n",
       "        2015      9025         1.5                      906                         2.25                                                                                1359\n",
       "Average 2013.5    8119         NaN                      Sum                         5                                                                                   2406\n",
       "NaN     NaN       NaN          NaN                      B1                          B1 = (∑(x - x̅)(y - y̅))/(∑(x - x̅)2)                                              481.2\n",
       "                                                        B0                          Y̅ = B0 + B1 * X̅                                                              -960777.2\n",
       "                                                        NaN                         Prediction for 2016                                                                 9322"
      ]
     },
     "metadata": {},
     "output_type": "display_data"
    },
    {
     "data": {
      "text/html": [
       "<div>\n",
       "<style scoped>\n",
       "    .dataframe tbody tr th:only-of-type {\n",
       "        vertical-align: middle;\n",
       "    }\n",
       "\n",
       "    .dataframe tbody tr th {\n",
       "        vertical-align: top;\n",
       "    }\n",
       "\n",
       "    .dataframe thead th {\n",
       "        text-align: right;\n",
       "    }\n",
       "</style>\n",
       "<table border=\"1\" class=\"dataframe\">\n",
       "  <thead>\n",
       "    <tr style=\"text-align: right;\">\n",
       "      <th></th>\n",
       "      <th></th>\n",
       "      <th></th>\n",
       "      <th></th>\n",
       "      <th></th>\n",
       "      <th></th>\n",
       "      <th>Table 1</th>\n",
       "    </tr>\n",
       "  </thead>\n",
       "  <tbody>\n",
       "    <tr>\n",
       "      <th rowspan=\"5\" valign=\"top\">NaN</th>\n",
       "      <th>Year or X</th>\n",
       "      <th>Crashes or Y</th>\n",
       "      <th>Year - average or X - X̅</th>\n",
       "      <th>Crashes - average or Y - Y̅</th>\n",
       "      <th>(Year - average)2 or (X - X̅)2</th>\n",
       "      <td>(Year - average) * (crashes - average) or  (X ...</td>\n",
       "    </tr>\n",
       "    <tr>\n",
       "      <th>2012</th>\n",
       "      <th>8269</th>\n",
       "      <th>-1.5</th>\n",
       "      <th>-444.5</th>\n",
       "      <th>2.25</th>\n",
       "      <td>666.75</td>\n",
       "    </tr>\n",
       "    <tr>\n",
       "      <th>2013</th>\n",
       "      <th>8194</th>\n",
       "      <th>-0.5</th>\n",
       "      <th>-519.5</th>\n",
       "      <th>0.25</th>\n",
       "      <td>259.75</td>\n",
       "    </tr>\n",
       "    <tr>\n",
       "      <th>2014</th>\n",
       "      <th>8784</th>\n",
       "      <th>0.5</th>\n",
       "      <th>70.5</th>\n",
       "      <th>0.25</th>\n",
       "      <td>35.25</td>\n",
       "    </tr>\n",
       "    <tr>\n",
       "      <th>2015</th>\n",
       "      <th>9607</th>\n",
       "      <th>1.5</th>\n",
       "      <th>893.5</th>\n",
       "      <th>2.25</th>\n",
       "      <td>1340.25</td>\n",
       "    </tr>\n",
       "    <tr>\n",
       "      <th>Average</th>\n",
       "      <th>2013.5</th>\n",
       "      <th>8713.5</th>\n",
       "      <th>NaN</th>\n",
       "      <th>Sum</th>\n",
       "      <th>5</th>\n",
       "      <td>2302</td>\n",
       "    </tr>\n",
       "    <tr>\n",
       "      <th rowspan=\"3\" valign=\"top\">NaN</th>\n",
       "      <th rowspan=\"3\" valign=\"top\">NaN</th>\n",
       "      <th rowspan=\"3\" valign=\"top\">NaN</th>\n",
       "      <th rowspan=\"3\" valign=\"top\">NaN</th>\n",
       "      <th>B1</th>\n",
       "      <th>B1 = (∑(x - x̅)(y - y̅))/(∑(x - x̅)2)</th>\n",
       "      <td>460.4</td>\n",
       "    </tr>\n",
       "    <tr>\n",
       "      <th>B0</th>\n",
       "      <th>Y̅ = B0 + B1 * X̅</th>\n",
       "      <td>-918301.9</td>\n",
       "    </tr>\n",
       "    <tr>\n",
       "      <th>NaN</th>\n",
       "      <th>Prediction for 2016</th>\n",
       "      <td>9864.5</td>\n",
       "    </tr>\n",
       "  </tbody>\n",
       "</table>\n",
       "</div>"
      ],
      "text/plain": [
       "                                                                                                                                                                     Table 1\n",
       "NaN     Year or X Crashes or Y Year - average or X - X̅ Crashes - average or Y - Y̅ (Year - average)2 or (X - X̅)2         (Year - average) * (crashes - average) or  (X ...\n",
       "        2012      8269         -1.5                     -444.5                      2.25                                                                              666.75\n",
       "        2013      8194         -0.5                     -519.5                      0.25                                                                              259.75\n",
       "        2014      8784         0.5                      70.5                        0.25                                                                               35.25\n",
       "        2015      9607         1.5                      893.5                       2.25                                                                             1340.25\n",
       "Average 2013.5    8713.5       NaN                      Sum                         5                                                                                   2302\n",
       "NaN     NaN       NaN          NaN                      B1                          B1 = (∑(x - x̅)(y - y̅))/(∑(x - x̅)2)                                              460.4\n",
       "                                                        B0                          Y̅ = B0 + B1 * X̅                                                              -918301.9\n",
       "                                                        NaN                         Prediction for 2016                                                               9864.5"
      ]
     },
     "metadata": {},
     "output_type": "display_data"
    },
    {
     "data": {
      "text/html": [
       "<div>\n",
       "<style scoped>\n",
       "    .dataframe tbody tr th:only-of-type {\n",
       "        vertical-align: middle;\n",
       "    }\n",
       "\n",
       "    .dataframe tbody tr th {\n",
       "        vertical-align: top;\n",
       "    }\n",
       "\n",
       "    .dataframe thead th {\n",
       "        text-align: right;\n",
       "    }\n",
       "</style>\n",
       "<table border=\"1\" class=\"dataframe\">\n",
       "  <thead>\n",
       "    <tr style=\"text-align: right;\">\n",
       "      <th></th>\n",
       "      <th></th>\n",
       "      <th></th>\n",
       "      <th></th>\n",
       "      <th></th>\n",
       "      <th></th>\n",
       "      <th>Table 1</th>\n",
       "    </tr>\n",
       "  </thead>\n",
       "  <tbody>\n",
       "    <tr>\n",
       "      <th rowspan=\"5\" valign=\"top\">NaN</th>\n",
       "      <th>Year or X</th>\n",
       "      <th>Crashes or Y</th>\n",
       "      <th>Year - average or X - X̅</th>\n",
       "      <th>Crashes - average or Y - Y̅</th>\n",
       "      <th>(Year - average)2 or (X - X̅)2</th>\n",
       "      <td>(Year - average) * (crashes - average) or  (X ...</td>\n",
       "    </tr>\n",
       "    <tr>\n",
       "      <th>2012</th>\n",
       "      <th>13111</th>\n",
       "      <th>-1.5</th>\n",
       "      <th>-741.25</th>\n",
       "      <th>2.25</th>\n",
       "      <td>1111.875</td>\n",
       "    </tr>\n",
       "    <tr>\n",
       "      <th>2013</th>\n",
       "      <th>13477</th>\n",
       "      <th>-0.5</th>\n",
       "      <th>-375.25</th>\n",
       "      <th>0.25</th>\n",
       "      <td>187.625</td>\n",
       "    </tr>\n",
       "    <tr>\n",
       "      <th>2014</th>\n",
       "      <th>14069</th>\n",
       "      <th>0.5</th>\n",
       "      <th>216.75</th>\n",
       "      <th>0.25</th>\n",
       "      <td>108.375</td>\n",
       "    </tr>\n",
       "    <tr>\n",
       "      <th>2015</th>\n",
       "      <th>14752</th>\n",
       "      <th>1.5</th>\n",
       "      <th>899.75</th>\n",
       "      <th>2.25</th>\n",
       "      <td>1349.625</td>\n",
       "    </tr>\n",
       "    <tr>\n",
       "      <th>Average</th>\n",
       "      <th>2013.5</th>\n",
       "      <th>13852.25</th>\n",
       "      <th>NaN</th>\n",
       "      <th>Sum</th>\n",
       "      <th>5</th>\n",
       "      <td>2757.5</td>\n",
       "    </tr>\n",
       "    <tr>\n",
       "      <th rowspan=\"3\" valign=\"top\">NaN</th>\n",
       "      <th rowspan=\"3\" valign=\"top\">NaN</th>\n",
       "      <th rowspan=\"3\" valign=\"top\">NaN</th>\n",
       "      <th rowspan=\"3\" valign=\"top\">NaN</th>\n",
       "      <th>B1</th>\n",
       "      <th>B1 = (∑(x - x̅)(y - y̅))/(∑(x - x̅)2)</th>\n",
       "      <td>551.5</td>\n",
       "    </tr>\n",
       "    <tr>\n",
       "      <th>B0</th>\n",
       "      <th>Y̅ = B0 + B1 * X̅</th>\n",
       "      <td>-1096593</td>\n",
       "    </tr>\n",
       "    <tr>\n",
       "      <th>NaN</th>\n",
       "      <th>Prediction for 2016</th>\n",
       "      <td>15231</td>\n",
       "    </tr>\n",
       "  </tbody>\n",
       "</table>\n",
       "</div>"
      ],
      "text/plain": [
       "                                                                                                                                                                     Table 1\n",
       "NaN     Year or X Crashes or Y Year - average or X - X̅ Crashes - average or Y - Y̅ (Year - average)2 or (X - X̅)2         (Year - average) * (crashes - average) or  (X ...\n",
       "        2012      13111        -1.5                     -741.25                     2.25                                                                            1111.875\n",
       "        2013      13477        -0.5                     -375.25                     0.25                                                                             187.625\n",
       "        2014      14069        0.5                      216.75                      0.25                                                                             108.375\n",
       "        2015      14752        1.5                      899.75                      2.25                                                                            1349.625\n",
       "Average 2013.5    13852.25     NaN                      Sum                         5                                                                                 2757.5\n",
       "NaN     NaN       NaN          NaN                      B1                          B1 = (∑(x - x̅)(y - y̅))/(∑(x - x̅)2)                                              551.5\n",
       "                                                        B0                          Y̅ = B0 + B1 * X̅                                                               -1096593\n",
       "                                                        NaN                         Prediction for 2016                                                                15231"
      ]
     },
     "metadata": {},
     "output_type": "display_data"
    },
    {
     "data": {
      "text/html": [
       "<div>\n",
       "<style scoped>\n",
       "    .dataframe tbody tr th:only-of-type {\n",
       "        vertical-align: middle;\n",
       "    }\n",
       "\n",
       "    .dataframe tbody tr th {\n",
       "        vertical-align: top;\n",
       "    }\n",
       "\n",
       "    .dataframe thead th {\n",
       "        text-align: right;\n",
       "    }\n",
       "</style>\n",
       "<table border=\"1\" class=\"dataframe\">\n",
       "  <thead>\n",
       "    <tr style=\"text-align: right;\">\n",
       "      <th></th>\n",
       "      <th></th>\n",
       "      <th></th>\n",
       "      <th></th>\n",
       "      <th></th>\n",
       "      <th></th>\n",
       "      <th>Table 1</th>\n",
       "    </tr>\n",
       "  </thead>\n",
       "  <tbody>\n",
       "    <tr>\n",
       "      <th rowspan=\"5\" valign=\"top\">NaN</th>\n",
       "      <th>Year or X</th>\n",
       "      <th>Crashes or Y</th>\n",
       "      <th>Year - average or X - X̅</th>\n",
       "      <th>Crashes - average or Y - Y̅</th>\n",
       "      <th>(Year - average)2 or (X - X̅)2</th>\n",
       "      <td>(Year - average) * (crashes - average) or  (X ...</td>\n",
       "    </tr>\n",
       "    <tr>\n",
       "      <th>2012</th>\n",
       "      <th>26802</th>\n",
       "      <th>-1.5</th>\n",
       "      <th>214.5</th>\n",
       "      <th>2.25</th>\n",
       "      <td>-321.75</td>\n",
       "    </tr>\n",
       "    <tr>\n",
       "      <th>2013</th>\n",
       "      <th>25720</th>\n",
       "      <th>-0.5</th>\n",
       "      <th>-867.5</th>\n",
       "      <th>0.25</th>\n",
       "      <td>433.75</td>\n",
       "    </tr>\n",
       "    <tr>\n",
       "      <th>2014</th>\n",
       "      <th>25833</th>\n",
       "      <th>0.5</th>\n",
       "      <th>-754.5</th>\n",
       "      <th>0.25</th>\n",
       "      <td>-377.25</td>\n",
       "    </tr>\n",
       "    <tr>\n",
       "      <th>2015</th>\n",
       "      <th>27995</th>\n",
       "      <th>1.5</th>\n",
       "      <th>1407.5</th>\n",
       "      <th>2.25</th>\n",
       "      <td>2111.25</td>\n",
       "    </tr>\n",
       "    <tr>\n",
       "      <th>Average</th>\n",
       "      <th>2013.5</th>\n",
       "      <th>26587.5</th>\n",
       "      <th>NaN</th>\n",
       "      <th>Sum</th>\n",
       "      <th>5</th>\n",
       "      <td>1846</td>\n",
       "    </tr>\n",
       "    <tr>\n",
       "      <th rowspan=\"3\" valign=\"top\">NaN</th>\n",
       "      <th rowspan=\"3\" valign=\"top\">NaN</th>\n",
       "      <th rowspan=\"3\" valign=\"top\">NaN</th>\n",
       "      <th rowspan=\"3\" valign=\"top\">NaN</th>\n",
       "      <th>B1</th>\n",
       "      <th>B1 = (∑(x - x̅)(y - y̅))/(∑(x - x̅)2)</th>\n",
       "      <td>369.2</td>\n",
       "    </tr>\n",
       "    <tr>\n",
       "      <th>B0</th>\n",
       "      <th>Y̅ = B0 + B1 * X̅</th>\n",
       "      <td>-716796.7</td>\n",
       "    </tr>\n",
       "    <tr>\n",
       "      <th>NaN</th>\n",
       "      <th>Prediction for 2016</th>\n",
       "      <td>27510.5</td>\n",
       "    </tr>\n",
       "  </tbody>\n",
       "</table>\n",
       "</div>"
      ],
      "text/plain": [
       "                                                                                                                                                                     Table 1\n",
       "NaN     Year or X Crashes or Y Year - average or X - X̅ Crashes - average or Y - Y̅ (Year - average)2 or (X - X̅)2         (Year - average) * (crashes - average) or  (X ...\n",
       "        2012      26802        -1.5                     214.5                       2.25                                                                             -321.75\n",
       "        2013      25720        -0.5                     -867.5                      0.25                                                                              433.75\n",
       "        2014      25833        0.5                      -754.5                      0.25                                                                             -377.25\n",
       "        2015      27995        1.5                      1407.5                      2.25                                                                             2111.25\n",
       "Average 2013.5    26587.5      NaN                      Sum                         5                                                                                   1846\n",
       "NaN     NaN       NaN          NaN                      B1                          B1 = (∑(x - x̅)(y - y̅))/(∑(x - x̅)2)                                              369.2\n",
       "                                                        B0                          Y̅ = B0 + B1 * X̅                                                              -716796.7\n",
       "                                                        NaN                         Prediction for 2016                                                              27510.5"
      ]
     },
     "metadata": {},
     "output_type": "display_data"
    }
   ],
   "source": [
    "display(linear_regression_marion)\n",
    "display(linear_regression_clackamas)\n",
    "display(linear_regression_washington)\n",
    "display(linear_regression_multnomah)"
   ]
  },
  {
   "cell_type": "markdown",
   "metadata": {},
   "source": [
    "### Using linear regression\n",
    "<font>\n",
    "The estimated number of 2016 crashes in Marion County is __9322__<br>\n",
    "The estimated number of 2016 crashes in Clackamas County is __9864.5__<br>\n",
    "The estimated number of 2016 crashes in Washington County is __15231__<br>\n",
    "The estimated number of 2016 crashes in Multnomah County is __27510.5__<br>\n",
    "</font>"
   ]
  },
  {
   "cell_type": "code",
   "execution_count": null,
   "metadata": {},
   "outputs": [],
   "source": []
  },
  {
   "cell_type": "code",
   "execution_count": null,
   "metadata": {},
   "outputs": [],
   "source": []
  },
  {
   "cell_type": "code",
   "execution_count": null,
   "metadata": {},
   "outputs": [],
   "source": []
  }
 ],
 "metadata": {
  "kernelspec": {
   "display_name": "Python 3",
   "language": "python",
   "name": "python3"
  },
  "language_info": {
   "codemirror_mode": {
    "name": "ipython",
    "version": 3
   },
   "file_extension": ".py",
   "mimetype": "text/x-python",
   "name": "python",
   "nbconvert_exporter": "python",
   "pygments_lexer": "ipython3",
   "version": "3.6.5"
  }
 },
 "nbformat": 4,
 "nbformat_minor": 2
}
